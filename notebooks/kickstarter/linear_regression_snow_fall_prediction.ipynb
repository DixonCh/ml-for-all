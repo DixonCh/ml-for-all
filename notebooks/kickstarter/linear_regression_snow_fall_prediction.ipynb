{
 "cells": [
  {
   "cell_type": "markdown",
   "metadata": {},
   "source": [
    "# Linear Regression Example :Snow fall prediction\n",
    "\n",
    "linear regression is a linear approach for modeling the relationship between a scalar dependent variable Y and one or more independent variables denoted X. The output is a contineous value.\n",
    "\n",
    "- Author: Ashok Kuamr Pant\n",
    "- Email: asokpant@gmail.com"
   ]
  },
  {
   "cell_type": "code",
   "execution_count": null,
   "metadata": {
    "collapsed": true
   },
   "outputs": [],
   "source": [
    "import tensorflow as tf\n",
    "import numpy as np\n",
    "import matplotlib.pyplot as plt\n",
    "rng = np.random"
   ]
  },
  {
   "cell_type": "code",
   "execution_count": null,
   "metadata": {
    "collapsed": true
   },
   "outputs": [],
   "source": [
    "# Read data from file\n",
    "filename = '../../data/snow_fall.csv'\n",
    "train_X = []\n",
    "train_Y = []\n",
    "with open(filename) as f:\n",
    "    next(f)\n",
    "    for line in f:\n",
    "        temp = line.split(',')\n",
    "        train_X.append(int(temp[0]))\n",
    "        train_Y.append(float(temp[1]))\n",
    "train_X = np.array(train_X)\n",
    "train_Y = np.array(train_Y)\n",
    "\n",
    "# train_X = np.asarray([2000,2001,2002,2003,2004,2005,2006,2007,2008,2009,2010,2011,2012,2013,2014,2015,2016,2017])\n",
    "# train_Y= np.asarray([40,39,41,29,32,30,33,15,10,11,20,24,10,15,18,12,17,15])\n",
    "\n",
    "n_samples = train_X.shape[0]\n",
    "\n",
    "print(\"Year Snowfall(inches)\")\n",
    "for y, s in zip(train_X, train_Y):\n",
    "    print(y, s)\n",
    "\n",
    "normalize = True\n",
    "\n",
    "if normalize:\n",
    "    mean_X = np.mean(train_X)\n",
    "    mean_Y = np.mean(train_Y)\n",
    "    std_X = np.std(train_X)\n",
    "    std_Y = np.std(train_Y)\n",
    "    train_X = (train_X - mean_X) / std_X\n",
    "    train_Y = (train_Y - mean_Y) / std_Y\n",
    "\n",
    "print(\"Samples: {}\".format(train_X.shape[0]))\n",
    "if normalize:\n",
    "    plt.plot(train_X * std_X + mean_X, train_Y * std_Y + mean_Y, 'bo', label='Input data')\n",
    "else:\n",
    "    plt.plot(train_X, train_Y, 'bo', label='Input data')\n",
    "\n",
    "plt.xlabel(\"year\")\n",
    "plt.ylabel(\"snowfall (inches)\")\n",
    "plt.legend()\n",
    "plt.show()\n"
   ]
  },
  {
   "cell_type": "code",
   "execution_count": null,
   "metadata": {
    "collapsed": true
   },
   "outputs": [],
   "source": [
    "# Parameters\n",
    "learning_rate = 0.01\n",
    "training_epochs = 100\n",
    "display_steps=1"
   ]
  },
  {
   "cell_type": "code",
   "execution_count": null,
   "metadata": {
    "collapsed": true
   },
   "outputs": [],
   "source": [
    "# Create placeholders for input X (height) and label Y (weight)\n",
    "X = tf.placeholder(tf.float32, name='X')\n",
    "Y = tf.placeholder(tf.float32, name='Y')\n",
    "\n",
    "# Create weight and bias, initialized to 0 (or rng.randn())\n",
    "w = tf.Variable(0.0, name='weights')\n",
    "b = tf.Variable(0.0, name='bias')\n"
   ]
  },
  {
   "cell_type": "code",
   "execution_count": null,
   "metadata": {
    "collapsed": true
   },
   "outputs": [],
   "source": [
    "# Construct a linear model to predict Y\n",
    "Y_predicted = tf.add(tf.multiply(X, w), b) # X * w + b "
   ]
  },
  {
   "cell_type": "code",
   "execution_count": null,
   "metadata": {
    "collapsed": true
   },
   "outputs": [],
   "source": [
    "# Mean squared error\n",
    "loss = tf.reduce_sum(tf.pow(Y - Y_predicted, 2)) / (n_samples)  \n",
    "# Using gradient descent optimizer to minimize loss\n",
    "optimizer = tf.train.GradientDescentOptimizer(learning_rate).minimize(loss)\n"
   ]
  },
  {
   "cell_type": "code",
   "execution_count": null,
   "metadata": {
    "collapsed": true
   },
   "outputs": [],
   "source": [
    "# Create a summary to monitor tensors\n",
    "tf.summary.scalar(\"loss\", loss)\n",
    "# Merge all summaries into a single op\n",
    "merged_summary_op = tf.summary.merge_all()\n",
    "\n",
    "sess = tf.InteractiveSession()\n",
    "\n",
    "# Initialize the necessary variables(i.e. assign their default value), in this case, w and b\n",
    "sess.run(tf.global_variables_initializer())\n",
    "\n",
    "summary_writer = tf.summary.FileWriter('/tmp/linear_regression_snow', sess.graph)\n",
    "\n",
    "# Train the model\n",
    "for epoch in range(training_epochs):  # train the model for given number of epochs\n",
    "    for (x, y) in zip(train_X, train_Y):\n",
    "        _, summary = sess.run([optimizer, merged_summary_op], feed_dict={X: x, Y: y})\n",
    "    summary_writer.add_summary(summary, epoch)\n",
    "    # Display logs per epoch step\n",
    "    if (epoch + 1) % display_steps == 0:\n",
    "        l = sess.run(loss, feed_dict={X: train_X, Y: train_Y})\n",
    "        print('Epoch {}: loss={:.9f}, w={}, b={}'.format(epoch + 1, l, sess.run(w), sess.run(b)))\n",
    "\n",
    "# Close the summary_writer when you're done using it\n",
    "summary_writer.close()\n",
    "\n",
    "print(\"Optimization Finished!\")\n",
    "training_loss = sess.run(loss, feed_dict={X: train_X, Y: train_Y})\n",
    "w_final, b_final = sess.run([w, b])\n",
    "print('Training loss={}, w={}, b={}'.format(training_loss, w_final, b_final))\n"
   ]
  },
  {
   "cell_type": "code",
   "execution_count": null,
   "metadata": {
    "collapsed": true
   },
   "outputs": [],
   "source": [
    "# plot the results\n",
    "inputs = train_X\n",
    "targets = train_Y\n",
    "outputs = inputs * w_final + b_final\n",
    "\n",
    "if normalize:\n",
    "    inputs = inputs * std_X + mean_X\n",
    "    targets = targets * std_Y + mean_Y\n",
    "    outputs = outputs * std_Y + mean_Y\n",
    "\n",
    "plt.plot(inputs, targets, 'bo', label='Real data')\n",
    "plt.plot(inputs, outputs, 'r', label='Fitted line')\n",
    "plt.legend()\n",
    "plt.show()\n"
   ]
  },
  {
   "cell_type": "code",
   "execution_count": null,
   "metadata": {
    "collapsed": true
   },
   "outputs": [],
   "source": [
    "# Inference phese\n",
    "x = 2018\n",
    "\n",
    "if normalize:\n",
    "    x = (x - mean_X) / std_X\n",
    "\n",
    "y = sess.run(Y_predicted, feed_dict={X: (x)})  # == x * w_final + b_final\n",
    "\n",
    "if normalize:\n",
    "    x = x * std_X + mean_X\n",
    "    y = y * std_Y + mean_Y\n",
    "\n",
    "print(\"Input = {}, Output = {:.2f} inches.\".format(x, y))\n"
   ]
  }
 ],
 "metadata": {
  "anaconda-cloud": {},
  "kernelspec": {
   "display_name": "Python 3",
   "language": "python",
   "name": "python3"
  },
  "language_info": {
   "codemirror_mode": {
    "name": "ipython",
    "version": 3
   },
   "file_extension": ".py",
   "mimetype": "text/x-python",
   "name": "python",
   "nbconvert_exporter": "python",
   "pygments_lexer": "ipython3",
   "version": "3.5.4"
  }
 },
 "nbformat": 4,
 "nbformat_minor": 1
}
