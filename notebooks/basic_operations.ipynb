{
 "cells": [
  {
   "cell_type": "markdown",
   "metadata": {},
   "source": [
    "## TensorFlow basic operations"
   ]
  },
  {
   "cell_type": "code",
   "execution_count": 22,
   "metadata": {},
   "outputs": [],
   "source": [
    "import tensorflow as tf"
   ]
  },
  {
   "cell_type": "code",
   "execution_count": 6,
   "metadata": {},
   "outputs": [
    {
     "name": "stdout",
     "output_type": "stream",
     "text": [
      "Tensor(\"Const_8:0\", shape=(), dtype=int32) Tensor(\"Const_9:0\", shape=(), dtype=int32)\n"
     ]
    }
   ],
   "source": [
    "# Basic constant operations\n",
    "# The value returned by the constructor represents the output\n",
    "# of the Constant op.\n",
    "a = tf.constant(20)\n",
    "b = tf.constant(10)\n",
    "print(a, b)"
   ]
  },
  {
   "cell_type": "code",
   "execution_count": 7,
   "metadata": {},
   "outputs": [
    {
     "name": "stdout",
     "output_type": "stream",
     "text": [
      "a: 20, b: 10\n",
      "Addition: 30\n",
      "Subtraction: 10\n",
      "Multiplication: 200\n",
      "Division: 2.0\n"
     ]
    }
   ],
   "source": [
    "# Launch the default graph.\n",
    "sess = tf.InteractiveSession()\n",
    "\n",
    "print (\"a: {}, b: {}\".format(sess.run(a), sess.run(b)))\n",
    "print (\"Addition: {}\".format(sess.run(a+b)))\n",
    "print (\"Subtraction: {}\".format(sess.run(a-b)))\n",
    "print (\"Multiplication: {}\".format(sess.run(a*b)))\n",
    "print (\"Division: {}\".format(sess.run(a/b)))"
   ]
  },
  {
   "cell_type": "code",
   "execution_count": 8,
   "metadata": {
    "collapsed": true
   },
   "outputs": [],
   "source": [
    "# Basic Operations with variable as graph input\n",
    "# The value returned by the constructor represents the output\n",
    "# of the Variable op. (define as input when running session)\n",
    "# tf Graph input\n",
    "a = tf.placeholder(tf.int16)\n",
    "b = tf.placeholder(tf.int16)"
   ]
  },
  {
   "cell_type": "code",
   "execution_count": 9,
   "metadata": {
    "collapsed": true
   },
   "outputs": [],
   "source": [
    "# Define some operations\n",
    "add = tf.add(a, b)\n",
    "sub = tf.subtract(a, b)\n",
    "mul = tf.multiply(a, b)\n",
    "div = tf.div(a,b)"
   ]
  },
  {
   "cell_type": "code",
   "execution_count": 10,
   "metadata": {},
   "outputs": [
    {
     "name": "stdout",
     "output_type": "stream",
     "text": [
      "Addition: 12\n",
      "Subtraction: 10\n",
      "Multiplication: 200\n",
      "Division: 2\n"
     ]
    }
   ],
   "source": [
    "with tf.Session() as sess:\n",
    "    # Run every operation with variable input\n",
    "    print (\"Addition: {}\".format(sess.run(add, feed_dict={a:2,b:10})))\n",
    "    print (\"Subtraction: {}\".format(sess.run(sub, feed_dict={a:20,b:10})))\n",
    "    print (\"Multiplication: {}\".format(sess.run(mul, feed_dict={a:20,b:10})))\n",
    "    print (\"Division: {}\".format(sess.run(div, feed_dict={a:20,b:10})))"
   ]
  },
  {
   "cell_type": "markdown",
   "metadata": {},
   "source": [
    "### Matrix Manipulation with TensorFlow"
   ]
  },
  {
   "cell_type": "code",
   "execution_count": 11,
   "metadata": {
    "collapsed": true
   },
   "outputs": [],
   "source": [
    "# Create a Constant op that produces a 2x3 matrix.  The op is\n",
    "# added as a node to the default graph.\n",
    "#\n",
    "# The value returned by the constructor represents the output\n",
    "# of the Constant op.\n",
    "matrix1 = tf.constant([[1., 1., 1.], [2., 2., 2.]])"
   ]
  },
  {
   "cell_type": "code",
   "execution_count": 12,
   "metadata": {
    "collapsed": true
   },
   "outputs": [],
   "source": [
    "# Create another Constant that produces a 3x2 matrix.\n",
    "matrix2 = tf.constant([[1., 1.], [2., 2.], [3., 3.]])"
   ]
  },
  {
   "cell_type": "code",
   "execution_count": 13,
   "metadata": {
    "collapsed": true
   },
   "outputs": [],
   "source": [
    "# Create a Matmul op that takes 'matrix1' and 'matrix2' as inputs.\n",
    "# The returned value, 'product', represents the result of the matrix\n",
    "# multiplication.\n",
    "product = tf.matmul(matrix2, matrix1)"
   ]
  },
  {
   "cell_type": "code",
   "execution_count": 14,
   "metadata": {},
   "outputs": [
    {
     "name": "stdout",
     "output_type": "stream",
     "text": [
      "[[3. 3. 3.]\n",
      " [6. 6. 6.]\n",
      " [9. 9. 9.]]\n"
     ]
    }
   ],
   "source": [
    "# Run the graph\n",
    "with tf.Session() as sess:\n",
    "    result = sess.run(product)\n",
    "    print(result)"
   ]
  },
  {
   "cell_type": "markdown",
   "metadata": {
    "collapsed": true
   },
   "source": [
    "### Computational Graph and Session"
   ]
  },
  {
   "cell_type": "code",
   "execution_count": 15,
   "metadata": {
    "collapsed": true
   },
   "outputs": [],
   "source": [
    "a = tf.constant(3)\n",
    "b = tf.constant(5)\n",
    "c = tf.multiply(a, b)\n",
    "d = tf.add(a, b)\n",
    "e = tf.add(c,d)"
   ]
  },
  {
   "cell_type": "code",
   "execution_count": 16,
   "metadata": {
    "collapsed": true
   },
   "outputs": [],
   "source": [
    "sess = tf.InteractiveSession()"
   ]
  },
  {
   "cell_type": "code",
   "execution_count": 17,
   "metadata": {},
   "outputs": [
    {
     "name": "stdout",
     "output_type": "stream",
     "text": [
      "23\n"
     ]
    }
   ],
   "source": [
    "print(e.eval())"
   ]
  },
  {
   "cell_type": "markdown",
   "metadata": {},
   "source": [
    "### Tensorboard"
   ]
  },
  {
   "cell_type": "code",
   "execution_count": 23,
   "metadata": {},
   "outputs": [
    {
     "name": "stdout",
     "output_type": "stream",
     "text": [
      "5\n"
     ]
    }
   ],
   "source": [
    "import tensorflow as tf\n",
    "a = tf.constant(2)\n",
    "b = tf.constant(3)\n",
    "x = tf.add(a, b)\n",
    "\n",
    "sess = tf.InteractiveSession()\n",
    "\n",
    "\n",
    "# add this line to use TensorBoard. \n",
    "writer = tf.summary.FileWriter('/tmp/ai', sess.graph) \n",
    "\n",
    "\n",
    "print(sess.run(x))\n",
    "writer.close() # close the writer when you’re done using it"
   ]
  },
  {
   "cell_type": "markdown",
   "metadata": {
    "collapsed": true
   },
   "source": [
    "### Read Images"
   ]
  },
  {
   "cell_type": "code",
   "execution_count": 25,
   "metadata": {},
   "outputs": [
    {
     "name": "stdout",
     "output_type": "stream",
     "text": [
      "[[[232 232 232]\n",
      "  [232 232 232]\n",
      "  [232 232 232]\n",
      "  ...\n",
      "  [235 235 235]\n",
      "  [235 235 235]\n",
      "  [235 235 235]]\n",
      "\n",
      " [[232 232 232]\n",
      "  [232 232 232]\n",
      "  [232 232 232]\n",
      "  ...\n",
      "  [235 235 235]\n",
      "  [235 235 235]\n",
      "  [235 235 235]]\n",
      "\n",
      " [[233 233 233]\n",
      "  [232 232 232]\n",
      "  [232 232 232]\n",
      "  ...\n",
      "  [235 235 235]\n",
      "  [235 235 235]\n",
      "  [235 235 235]]\n",
      "\n",
      " ...\n",
      "\n",
      " [[234 234 234]\n",
      "  [235 235 235]\n",
      "  [235 235 235]\n",
      "  ...\n",
      "  [229 229 229]\n",
      "  [229 229 229]\n",
      "  [229 229 229]]\n",
      "\n",
      " [[234 234 234]\n",
      "  [235 235 235]\n",
      "  [235 235 235]\n",
      "  ...\n",
      "  [229 229 229]\n",
      "  [229 229 229]\n",
      "  [229 229 229]]\n",
      "\n",
      " [[234 234 234]\n",
      "  [235 235 235]\n",
      "  [235 235 235]\n",
      "  ...\n",
      "  [229 229 229]\n",
      "  [229 229 229]\n",
      "  [229 229 229]]]\n",
      "3\n",
      "(454, 1200, 3)\n"
     ]
    },
    {
     "data": {
      "image/png": "[encoded data removed]",
      "text/plain": [
       "<matplotlib.figure.Figure at 0x7fc5a8076400>"
      ]
     },
     "metadata": {},
     "output_type": "display_data"
    }
   ],
   "source": [
    "import matplotlib.image as img\n",
    "import matplotlib.pyplot as plot\n",
    "import numpy as np\n",
    "myfile = \"/home/ashok/Desktop/desktop/treeleaf.ai.jpg\"\n",
    " \n",
    "image = img.imread(myfile)\n",
    "print(image)\n",
    "print(image.ndim)\n",
    "print(image.shape)\n",
    "plot.imshow(image) \n",
    "plot.show()"
   ]
  },
  {
   "cell_type": "code",
   "execution_count": null,
   "metadata": {
    "collapsed": true
   },
   "outputs": [],
   "source": []
  }
 ],
 "metadata": {
  "kernelspec": {
   "display_name": "Python 3",
   "language": "python",
   "name": "python3"
  },
  "language_info": {
   "codemirror_mode": {
    "name": "ipython",
    "version": 3
   },
   "file_extension": ".py",
   "mimetype": "text/x-python",
   "name": "python",
   "nbconvert_exporter": "python",
   "pygments_lexer": "ipython3",
   "version": "3.5.4"
  }
 },
 "nbformat": 4,
 "nbformat_minor": 2
}
